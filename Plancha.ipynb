{
 "cells": [
  {
   "cell_type": "code",
   "execution_count": 5,
   "id": "7034d177",
   "metadata": {},
   "outputs": [
    {
     "name": "stdout",
     "output_type": "stream",
     "text": [
      "1\n",
      "Prenda Planchada\n",
      "2024-01-16 11:58:03.263645\n",
      "1\n",
      "Prenda Planchada\n",
      "2024-01-16 11:58:04.264057\n",
      "1\n",
      "Prenda Planchada\n",
      "2024-01-16 11:58:05.264885\n",
      "1\n"
     ]
    },
    {
     "ename": "KeyboardInterrupt",
     "evalue": "",
     "output_type": "error",
     "traceback": [
      "\u001b[1;31m---------------------------------------------------------------------------\u001b[0m",
      "\u001b[1;31mKeyboardInterrupt\u001b[0m                         Traceback (most recent call last)",
      "Cell \u001b[1;32mIn[5], line 16\u001b[0m\n\u001b[0;32m     14\u001b[0m     \u001b[38;5;28mprint\u001b[39m(countdown)\n\u001b[0;32m     15\u001b[0m     countdown \u001b[38;5;241m-\u001b[39m\u001b[38;5;241m=\u001b[39m \u001b[38;5;241m1\u001b[39m\n\u001b[1;32m---> 16\u001b[0m     time\u001b[38;5;241m.\u001b[39msleep(\u001b[38;5;241m1\u001b[39m)\n\u001b[0;32m     18\u001b[0m \u001b[38;5;28mprint\u001b[39m(\u001b[38;5;124m\"\u001b[39m\u001b[38;5;124mPrenda Planchada\u001b[39m\u001b[38;5;124m\"\u001b[39m)\n\u001b[0;32m     20\u001b[0m \u001b[38;5;66;03m##Printea el momento exacto donde se finalzia la tarea en una celula\u001b[39;00m\n",
      "\u001b[1;31mKeyboardInterrupt\u001b[0m: "
     ]
    }
   ],
   "source": [
    "import pandas as pd\n",
    "import time\n",
    "from datetime import datetime\n",
    "\n",
    "##Guardamos el excel en una df\n",
    "df = pd.read_excel('C:/Users/masca/JupyterTest/PipelineLavadora/Plancha/RopaSeca.xlsx')\n",
    "\n",
    "##Creamos un for loop que lopeara por cada celula de la columna E\n",
    "for cell in range(len(df['E'])):\n",
    "    \n",
    "    ##El countdown que cuenta atras desde un numero dado\n",
    "    countdown = 1\n",
    "    while countdown != 0:\n",
    "        print(countdown)\n",
    "        countdown -= 1\n",
    "        time.sleep(1)\n",
    "        \n",
    "    print(\"Prenda Planchada\")\n",
    "    \n",
    "    ##Printea el momento exacto donde se finalzia la tarea en una celula\n",
    "    timestamp = datetime.now()\n",
    "    print(timestamp)\n",
    "    \n",
    "    ##Se cambia el valor de la celula\n",
    "    df.at[cell, \"E\"] = True\n",
    "    \n",
    "##Output del fichero final\n",
    "file_name = 'C:/Users/masca/JupyterTest/PipelineLavadora/RopaPlanchada.xlsx'       \n",
    "df.to_excel(file_name, index=False)"
   ]
  },
  {
   "cell_type": "code",
   "execution_count": null,
   "id": "56758848",
   "metadata": {},
   "outputs": [],
   "source": []
  }
 ],
 "metadata": {
  "kernelspec": {
   "display_name": "Python 3 (ipykernel)",
   "language": "python",
   "name": "python3"
  },
  "language_info": {
   "codemirror_mode": {
    "name": "ipython",
    "version": 3
   },
   "file_extension": ".py",
   "mimetype": "text/x-python",
   "name": "python",
   "nbconvert_exporter": "python",
   "pygments_lexer": "ipython3",
   "version": "3.11.4"
  }
 },
 "nbformat": 4,
 "nbformat_minor": 5
}
